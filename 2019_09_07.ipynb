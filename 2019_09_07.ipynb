{
 "cells": [
  {
   "cell_type": "code",
   "execution_count": 1,
   "metadata": {},
   "outputs": [],
   "source": [
    "import numpy as np\n",
    "from collections import Counter\n",
    "import matplotlib.pyplot as plt\n",
    "from math import *"
   ]
  },
  {
   "cell_type": "markdown",
   "metadata": {},
   "source": [
    "# Express\n",
    "You and your friend are playing a game of “Acchi, Muite, Hoi” (or what some on Twitter have been calling the “lookaway challenge”). In the first round, you point in one of four directions: up, down, left or right. At the exact same time, your friend also looks in one of those four directions. If your friend looks in the same direction you’re pointing, you win! Otherwise, you switch roles as the game continues to the next round — now your friend points in a direction and you try to look away. As long as no one wins, you keep switching off who points and who looks.\n",
    "\n",
    "It seems like your chances of winning should be 50 percent, since there are exactly two players. But surely it’s not that simple. If both you and your friend choose your directions randomly in each round, what are your chances of winning?"
   ]
  },
  {
   "cell_type": "code",
   "execution_count": null,
   "metadata": {},
   "outputs": [],
   "source": []
  },
  {
   "cell_type": "markdown",
   "metadata": {},
   "source": [
    "- Probability of A winning game 1: $0$, Probability of B winning game 1: $1/4$\n",
    "- Probability of A winning game 2: $1/4\\cdot3/4$, Probability of B winning game 2: $0$\n",
    "- Probability of A winning game 3: $0$, Probability of B winning game 2: $1/4\\cdot3/4\\cdot3/4$\n",
    "- etc.\n",
    "\n",
    "Therefore, probability of A winning is $\\dfrac{1}{4}\\left(\\dfrac{3}{4} + \\dfrac{3^3}{4^3} + \\dfrac{3^5}{4^5} + ...\\right)\n",
    "= \\dfrac{3}{16}\\left(1 + \\dfrac{9}{16} + \\dfrac{9^2}{16^2} + ...\\right) = \\dfrac{3}{16}\\left(\\dfrac{1}{1-\\frac{9}{16}}\\right) = \\dfrac{3}{16}\\cdot\\dfrac{16}{7} = \\dfrac{3}{7}$\n",
    "\n",
    "\n",
    "Equivalently: If $X$ is the probability of winning when you start as the pointer, then the following equation holds:\n",
    "$$X = \\dfrac{1}{4}\\cdot0 + \\dfrac{3}{4}\\cdot(1-X) \\Rightarrow X = \\dfrac{3}{4} - \\dfrac{3}{4}X \\Rightarrow \\dfrac{7}{4}X = \\dfrac{3}{4} \\Rightarrow X = \\dfrac{3}{7}$$\n",
    "\n",
    "Equivalently: Let X be the win probability when you start as the pointer. Since you start as pointer on the first round, there is a 1/4 chance your opponent immediately wins (your win probability becomes 0) and a 3/4 chance you become the looker in the second round (your win probability becomes 1-X). Thus, X = 1/4\\*0 + 3/4\\*(1-X), which is solved by X = 3/7."
   ]
  },
  {
   "cell_type": "code",
   "execution_count": null,
   "metadata": {},
   "outputs": [],
   "source": []
  },
  {
   "cell_type": "code",
   "execution_count": null,
   "metadata": {},
   "outputs": [],
   "source": []
  },
  {
   "cell_type": "code",
   "execution_count": null,
   "metadata": {},
   "outputs": [],
   "source": []
  },
  {
   "cell_type": "markdown",
   "metadata": {},
   "source": [
    "# Classic\n",
    "The U.S. Open is upon us! Dave Moran and Erich Friedman each submitted a tennis-themed puzzle that asked what it really takes to succeed in the tournament.\n",
    "\n",
    "Suppose you’re playing a match at the U.S. Open, and you’re slightly better than the competition: your chances of winning any given point are exactly 55 percent. (Yes, most players are more likely to win the points they serve, but we’re simplifying things a bit.) What are your chances of winning a three-set match, as played by the women, or a five-set match, as played by the men? And what are your chances of winning the whole tournament (seven consecutive matches)?\n",
    "\n",
    "If you’re not familiar with the scoring system in tennis, you can read more about it here. In short, the first to 4 points wins a game (as long as they’ve won 2 more points than their opponent), the first to six games wins a set (as long as they’ve won two more games), and the first to two sets (for women) or three sets (for men) wins the match. If at any point a set is tied at six games apiece, that set is decided by a tiebreaker, in which the first to 7 points wins (with the same 2-point margin rule applying here).\n",
    "\n",
    "You know, I thought tennis scoring was pretty straightforward until I had to write it down."
   ]
  },
  {
   "cell_type": "code",
   "execution_count": 44,
   "metadata": {},
   "outputs": [],
   "source": [
    "class TennisGame:\n",
    "    def __init__(self, p_win_one_point, points_to_win, verbose=False):\n",
    "        self.p_win_one_point = p_win_one_point\n",
    "        self.p_lose_one_point = 1-self.p_win_one_point\n",
    "        self.points_to_win = points_to_win\n",
    "        self.verbose = verbose\n",
    "        self.memo = {}\n",
    "        \n",
    "        # Deuce game: X = p**2 * 1 + 2p(1-p) * X + (1-p)**2 * 0\n",
    "        self.p_win_from_deuce = self.p_win_one_point**2 / (1-2*self.p_win_one_point*self.p_lose_one_point)\n",
    "    \n",
    "    def p_win_intermediate(self, pts1, pts2):\n",
    "        score = (pts1, pts2)\n",
    "        \n",
    "        if score in self.memo:\n",
    "            return self.memo[score]\n",
    "\n",
    "        if pts1 >= self.points_to_win and pts2 <= pts1-2:\n",
    "            self.memo[score] = 1\n",
    "            return self.memo[score]\n",
    "\n",
    "        if pts2 >= self.points_to_win and pts1 <= pts2-2:\n",
    "            self.memo[score] = 0\n",
    "            return self.memo[score]\n",
    "\n",
    "        if pts1 == self.points_to_win-1 and pts2 == self.points_to_win-1:\n",
    "            self.memo[score] = self.p_win_from_deuce\n",
    "            return self.memo[score]\n",
    "\n",
    "        self.memo[score] = self.p_win_one_point * self.p_win_intermediate(pts1+1, pts2) + self.p_lose_one_point * self.p_win_intermediate(pts1, pts2+1)\n",
    "        if self.verbose:\n",
    "            print(f'Probability of winning {pts1}-{pts2} game: {self.memo[score]}')\n",
    "        return self.memo[score]\n",
    "    \n",
    "    def p_win(self):\n",
    "        return self.p_win_intermediate(0, 0)"
   ]
  },
  {
   "cell_type": "code",
   "execution_count": 48,
   "metadata": {},
   "outputs": [
    {
     "name": "stdout",
     "output_type": "stream",
     "text": [
      "Probability of winning 3-2 game: 0.8195544554455446\n",
      "Probability of winning 3-1 game: 0.9187995049504951\n",
      "Probability of winning 3-0 game: 0.9634597772277228\n",
      "Probability of winning 2-3 game: 0.3294554455445545\n",
      "Probability of winning 2-2 game: 0.5990099009900991\n",
      "Probability of winning 2-1 game: 0.7748941831683169\n",
      "Probability of winning 2-0 game: 0.8786052599009901\n",
      "Probability of winning 1-3 game: 0.181200495049505\n",
      "Probability of winning 1-2 game: 0.41099566831683176\n",
      "Probability of winning 1-1 game: 0.6111398514851486\n",
      "Probability of winning 1-0 game: 0.7582458261138614\n",
      "Probability of winning 0-3 game: 0.09966027227722776\n",
      "Probability of winning 0-2 game: 0.27089474009901\n",
      "Probability of winning 0-1 game: 0.45802955136138623\n",
      "Probability of winning 0-0 game: 0.6231485024752476\n",
      "0.6231485024752476\n"
     ]
    }
   ],
   "source": [
    "game = TennisGame(p_win_one_point=0.55, points_to_win=4, verbose=True)\n",
    "print(game.p_win())"
   ]
  },
  {
   "cell_type": "code",
   "execution_count": 46,
   "metadata": {},
   "outputs": [],
   "source": [
    "class TennisSet:\n",
    "    def __init__(self, p_win_one_point, points_to_win_game, games_to_win_set, verbose=False):\n",
    "        self.p_win_one_point = p_win_one_point\n",
    "        self.points_to_win_game = points_to_win_game\n",
    "        self.games_to_win_set = games_to_win_set\n",
    "        self.verbose = verbose\n",
    "        self.memo = {}\n",
    "        \n",
    "        self.game = TennisGame(self.p_win_one_point, self.points_to_win_game)\n",
    "        self.p_win_one_game = self.game.p_win()\n",
    "    \n",
    "    def p_win_intermediate(self, pts1, pts2):\n",
    "        score = (pts1, pts2)\n",
    "        \n",
    "        if score in self.memo:\n",
    "            return self.memo[score]\n",
    "\n",
    "        if pts1 >= self.games_to_win_set and pts2 <= pts1-2:\n",
    "            self.memo[score] = 1\n",
    "            return self.memo[score]\n",
    "\n",
    "        if pts2 >= self.games_to_win_set and pts1 <= pts2-2:\n",
    "            self.memo[score] = 0\n",
    "            return self.memo[score]\n",
    "\n",
    "        if pts1 == self.games_to_win_set and pts2 == self.games_to_win_set:\n",
    "            self.tiebreak = TennisGame(points_to_win=7, p_win_one_point=self.p_win_one_point)\n",
    "            self.memo[score] = self.tiebreak.p_win()\n",
    "            return self.memo[score]\n",
    "\n",
    "        self.memo[score] = self.p_win_one_game * self.p_win_intermediate(pts1+1, pts2) + (1-self.p_win_one_game) * self.p_win_intermediate(pts1, pts2+1)\n",
    "        if self.verbose:\n",
    "            print(f'Probability of winning {pts1}-{pts2} set: {self.memo[score]}')\n",
    "        return self.memo[score]\n",
    "    \n",
    "    def p_win(self):\n",
    "        return self.p_win_intermediate(0, 0)"
   ]
  },
  {
   "cell_type": "code",
   "execution_count": 49,
   "metadata": {},
   "outputs": [
    {
     "name": "stdout",
     "output_type": "stream",
     "text": [
      "Probability of winning 6-5 set: 0.8696661986937584\n",
      "Probability of winning 5-6 set: 0.40763307096085805\n",
      "Probability of winning 5-5 set: 0.6955483226015696\n",
      "Probability of winning 5-4 set: 0.8852669294484787\n",
      "Probability of winning 5-3 set: 0.9567626705470461\n",
      "Probability of winning 5-2 set: 0.9837059476466832\n",
      "Probability of winning 5-1 set: 0.9938595619699058\n",
      "Probability of winning 5-0 set: 0.997685966732901\n",
      "Probability of winning 4-5 set: 0.4334298956283385\n",
      "Probability of winning 4-4 set: 0.7149914666162167\n",
      "Probability of winning 4-3 set: 0.8656508302873507\n",
      "Probability of winning 4-2 set: 0.9392166998793583\n",
      "Probability of winning 4-1 set: 0.9732673175620445\n",
      "Probability of winning 4-0 set: 0.9884837622253322\n",
      "Probability of winning 3-5 set: 0.27009119038880197\n",
      "Probability of winning 3-4 set: 0.5473301312707395\n",
      "Probability of winning 3-3 set: 0.7456911981698148\n",
      "Probability of winning 3-2 set: 0.8662863247508878\n",
      "Probability of winning 3-1 set: 0.9329513702144754\n",
      "Probability of winning 3-0 set: 0.9675562971349092\n",
      "Probability of winning 2-5 set: 0.16830692082253892\n",
      "Probability of winning 2-4 set: 0.40449466681669566\n",
      "Probability of winning 2-3 set: 0.6171107743791406\n",
      "Probability of winning 2-2 set: 0.7723841454467405\n",
      "Probability of winning 2-1 set: 0.872441371107361\n",
      "Probability of winning 2-0 set: 0.9317120948244716\n",
      "Probability of winning 1-5 set: 0.10488020566678519\n",
      "Probability of winning 1-4 set: 0.2915845084522801\n",
      "Probability of winning 1-3 set: 0.4944357135809625\n",
      "Probability of winning 1-2 set: 0.6676388626634654\n",
      "Probability of winning 1-1 set: 0.7952612391034533\n",
      "Probability of winning 1-0 set: 0.880290385507472\n",
      "Probability of winning 0-5 set: 0.06535594310055316\n",
      "Probability of winning 0-4 set: 0.2063299348166055\n",
      "Probability of winning 0-3 set: 0.38586261940807953\n",
      "Probability of winning 0-2 set: 0.5614510634257743\n",
      "Probability of winning 0-1 set: 0.7071495242627945\n",
      "Probability of winning 0-0 set: 0.8150419926646899\n",
      "0.8150419926646899\n"
     ]
    }
   ],
   "source": [
    "tennis_set = TennisSet(p_win_one_point=0.55, points_to_win_game=4, games_to_win_set=6, verbose=True)\n",
    "print(tennis_set.p_win())"
   ]
  },
  {
   "cell_type": "code",
   "execution_count": 50,
   "metadata": {},
   "outputs": [],
   "source": [
    "class TennisMatch:\n",
    "    def __init__(self, p_win_one_point, points_to_win_game, games_to_win_set, sets_to_win_match, verbose=False):\n",
    "        self.p_win_one_point = p_win_one_point\n",
    "        self.points_to_win_game = points_to_win_game\n",
    "        self.games_to_win_set = games_to_win_set\n",
    "        self.sets_to_win_match = sets_to_win_match\n",
    "        self.verbose = verbose\n",
    "        self.memo = {}\n",
    "        \n",
    "        self.tennisSet = TennisSet(self.p_win_one_point, self.points_to_win_game, self.games_to_win_set)\n",
    "        self.p_win_one_set = self.tennisSet.p_win()\n",
    "    \n",
    "    def p_win_intermediate(self, pts1, pts2):\n",
    "        score = (pts1, pts2)\n",
    "        \n",
    "        if score in self.memo:\n",
    "            return self.memo[score]\n",
    "\n",
    "        if pts1 >= self.sets_to_win_match:\n",
    "            self.memo[score] = 1\n",
    "            return self.memo[score]\n",
    "\n",
    "        if pts2 >= self.sets_to_win_match:\n",
    "            self.memo[score] = 0\n",
    "            return self.memo[score]\n",
    "\n",
    "        self.memo[score] = self.p_win_one_set * self.p_win_intermediate(pts1+1, pts2) + (1-self.p_win_one_set) * self.p_win_intermediate(pts1, pts2+1)\n",
    "        if self.verbose:\n",
    "            print(f'Probability of winning {pts1}-{pts2} match: {self.memo[score]}')\n",
    "        return self.memo[score]\n",
    "    \n",
    "    def p_win(self):\n",
    "        return self.p_win_intermediate(0, 0)"
   ]
  },
  {
   "cell_type": "code",
   "execution_count": 60,
   "metadata": {},
   "outputs": [
    {
     "name": "stdout",
     "output_type": "stream",
     "text": [
      "Probability of winning 2-2 match: 0.8150419926646899\n",
      "Probability of winning 2-1 match: 0.9657905355225513\n",
      "Probability of winning 2-0 match: 0.993672685618243\n",
      "Probability of winning 1-2 match: 0.6642934498068285\n",
      "Probability of winning 1-1 match: 0.910026235331168\n",
      "Probability of winning 1-0 match: 0.9782016048524735\n",
      "Probability of winning 0-2 match: 0.5414270570446587\n",
      "Probability of winning 0-1 match: 0.8418508658098625\n",
      "Probability of winning 0-0 match: 0.9529824438604554\n",
      "Probability of winning men's match: 95.2982444%\n",
      "CPU times: user 756 µs, sys: 419 µs, total: 1.17 ms\n",
      "Wall time: 2.32 ms\n"
     ]
    }
   ],
   "source": [
    "%%time\n",
    "mens_tennis_match = TennisMatch(p_win_one_point=0.55, \n",
    "                                points_to_win_game=4, \n",
    "                                games_to_win_set=6, \n",
    "                                sets_to_win_match=3, \n",
    "                                verbose=True)\n",
    "print(f'Probability of winning men\\'s match: {mens_tennis_match.p_win()*100:.7f}%')"
   ]
  },
  {
   "cell_type": "code",
   "execution_count": 61,
   "metadata": {},
   "outputs": [
    {
     "name": "stdout",
     "output_type": "stream",
     "text": [
      "Probability of winning 1-1 match: 0.8150419926646899\n",
      "Probability of winning 1-0 match: 0.9657905355225513\n",
      "Probability of winning 0-1 match: 0.6642934498068285\n",
      "Probability of winning 0-0 match: 0.910026235331168\n",
      "Probability of winning women's match: 91.0026235%\n",
      "CPU times: user 1.36 ms, sys: 705 µs, total: 2.06 ms\n",
      "Wall time: 3.04 ms\n"
     ]
    }
   ],
   "source": [
    "%%time\n",
    "womens_tennis_match = TennisMatch(p_win_one_point=0.55, \n",
    "                                  points_to_win_game=4, \n",
    "                                  games_to_win_set=6, \n",
    "                                  sets_to_win_match=2, \n",
    "                                  verbose=True)\n",
    "print(f'Probability of winning women\\'s match: {womens_tennis_match.p_win()*100:.7f}%')"
   ]
  },
  {
   "cell_type": "code",
   "execution_count": 54,
   "metadata": {},
   "outputs": [
    {
     "name": "stdout",
     "output_type": "stream",
     "text": [
      "Probability of winning men's tournament: 71.3829185%\n",
      "Probability of winning women's tournament: 51.6865316%\n"
     ]
    }
   ],
   "source": [
    "print(f'Probability of winning men\\'s tournament: {mens_tennis_match.p_win()**7*100:.7f}%')\n",
    "print(f'Probability of winning women\\'s tournament: {womens_tennis_match.p_win()**7*100:.7f}%')"
   ]
  },
  {
   "cell_type": "code",
   "execution_count": null,
   "metadata": {},
   "outputs": [],
   "source": []
  }
 ],
 "metadata": {
  "kernelspec": {
   "display_name": "Python 3",
   "language": "python",
   "name": "python3"
  },
  "language_info": {
   "codemirror_mode": {
    "name": "ipython",
    "version": 3
   },
   "file_extension": ".py",
   "mimetype": "text/x-python",
   "name": "python",
   "nbconvert_exporter": "python",
   "pygments_lexer": "ipython3",
   "version": "3.7.1"
  }
 },
 "nbformat": 4,
 "nbformat_minor": 2
}
