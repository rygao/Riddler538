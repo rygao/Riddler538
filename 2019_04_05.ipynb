{
 "cells": [
  {
   "cell_type": "markdown",
   "metadata": {},
   "source": [
    "## Riddler Classic\n",
    "From Michael Branicky, your card has been declined:\n",
    "\n",
    "Lucky you! You’ve won two gift cards, each loaded with 50 free drinks from your favorite coffee shop, Riddler Caffei-Nation. The cards look identical, and because you’re not one for record-keeping, you randomly pick one of the cards to pay with each time you get a drink. One day, the clerk tells you that he can’t accept the card you presented to him because it doesn’t have any drink credits left on it.\n",
    "\n",
    "What is the probability that the other card still has free drinks on it? How many free drinks can you expect are still available?"
   ]
  },
  {
   "cell_type": "code",
   "execution_count": null,
   "metadata": {},
   "outputs": [],
   "source": []
  },
  {
   "cell_type": "code",
   "execution_count": 34,
   "metadata": {},
   "outputs": [],
   "source": [
    "%matplotlib inline\n",
    "\n",
    "import matplotlib\n",
    "import matplotlib.pyplot as plt\n",
    "from matplotlib import rcParams\n",
    "\n",
    "rcParams['figure.figsize'] = [12,8]\n",
    "\n",
    "from math import *\n",
    "import numpy as np\n",
    "import scipy.stats as stats\n",
    "from collections import Counter"
   ]
  },
  {
   "cell_type": "code",
   "execution_count": 7,
   "metadata": {},
   "outputs": [
    {
     "data": {
      "text/plain": [
       "Counter({2: 125,\n",
       "         0: 508,\n",
       "         1: 237,\n",
       "         14: 1,\n",
       "         5: 18,\n",
       "         4: 25,\n",
       "         7: 8,\n",
       "         6: 5,\n",
       "         3: 67,\n",
       "         11: 1,\n",
       "         8: 2,\n",
       "         13: 1,\n",
       "         9: 1,\n",
       "         10: 1})"
      ]
     },
     "execution_count": 7,
     "metadata": {},
     "output_type": "execute_result"
    }
   ],
   "source": [
    "Counter(np.random.negative_binomial(1, .5, size=1000))"
   ]
  },
  {
   "cell_type": "code",
   "execution_count": 49,
   "metadata": {},
   "outputs": [
    {
     "data": {
      "image/png": "[encoded data removed]",
      "text/plain": [
       "<Figure size 864x576 with 1 Axes>"
      ]
     },
     "metadata": {
      "needs_background": "light"
     },
     "output_type": "display_data"
    },
    {
     "name": "stdout",
     "output_type": "stream",
     "text": [
      "Prob other card has drinks left (empirical): 0.92074\n",
      "Prob other card has drinks left (theoretical): 0.9204107626128211\n",
      "Expected number of drinks left (empirical): 7.04382\n",
      "Wall time: 1.96 s\n"
     ]
    }
   ],
   "source": [
    "%%time\n",
    "N = 50\n",
    "n_runs = 100000\n",
    "\n",
    "left = []\n",
    "for i in range(n_runs):\n",
    "    x = np.random.randint(2, size=4*N)\n",
    "    drinks = min(np.where(np.cumsum(x) == N+1)[0][0], np.where(np.cumsum(1-x) == N+1)[0][0])\n",
    "    left.append(2*N-drinks)\n",
    "\n",
    "plt.hist(left, bins=np.arange(2*N), density=True)\n",
    "plt.show()\n",
    "\n",
    "print(f'Prob other card has drinks left (empirical): {np.mean(np.array(left) > 0)}')\n",
    "print(f'Prob other card has drinks left (theoretical): {1-stats.binom.pmf(k=50, n=100, p=0.5)}')\n",
    "print(f'Expected number of drinks left (empirical): {np.mean(left)}')"
   ]
  },
  {
   "cell_type": "code",
   "execution_count": 57,
   "metadata": {},
   "outputs": [
    {
     "name": "stdout",
     "output_type": "stream",
     "text": [
      "Wall time: 983 ms\n",
      "Wall time: 11.3 s\n"
     ]
    }
   ],
   "source": [
    "%%time\n",
    "N = 50\n",
    "n_runs = 1000000\n",
    "\n",
    "left = []\n",
    "%time samples = np.random.randint(2, size=4*N*n_runs)\n",
    "for i in range(n_runs):\n",
    "    x = samples[4*N*i:4*N*(i+1)]\n",
    "    drinks = min(np.where(np.cumsum(x) == N+1)[0][0], np.where(np.cumsum(1-x) == N+1)[0][0])\n",
    "    left.append(2*N-drinks)"
   ]
  },
  {
   "cell_type": "code",
   "execution_count": 58,
   "metadata": {},
   "outputs": [
    {
     "data": {
      "image/png": "[encoded data removed]",
      "text/plain": [
       "<Figure size 864x576 with 1 Axes>"
      ]
     },
     "metadata": {
      "needs_background": "light"
     },
     "output_type": "display_data"
    },
    {
     "name": "stdout",
     "output_type": "stream",
     "text": [
      "Prob other card has drinks left (empirical): 0.920974\n",
      "Prob other card has drinks left (theoretical): 0.9204107626128211\n",
      "Expected number of drinks left (empirical): 7.038763\n"
     ]
    }
   ],
   "source": [
    "plt.hist(left, bins=np.arange(2*N), density=True)\n",
    "plt.show()\n",
    "\n",
    "print(f'Prob other card has drinks left (empirical): {np.mean(np.array(left) > 0)}')\n",
    "print(f'Prob other card has drinks left (theoretical): {1-stats.binom.pmf(k=50, n=100, p=0.5)}')\n",
    "print(f'Expected number of drinks left (empirical): {np.mean(left)}')"
   ]
  },
  {
   "cell_type": "code",
   "execution_count": null,
   "metadata": {},
   "outputs": [],
   "source": []
  }
 ],
 "metadata": {
  "kernelspec": {
   "display_name": "Python 3",
   "language": "python",
   "name": "python3"
  },
  "language_info": {
   "codemirror_mode": {
    "name": "ipython",
    "version": 3
   },
   "file_extension": ".py",
   "mimetype": "text/x-python",
   "name": "python",
   "nbconvert_exporter": "python",
   "pygments_lexer": "ipython3",
   "version": "3.7.1"
  }
 },
 "nbformat": 4,
 "nbformat_minor": 2
}
